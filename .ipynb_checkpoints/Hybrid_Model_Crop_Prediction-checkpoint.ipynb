{
 "cells": [
  {
   "cell_type": "markdown",
   "id": "46a1779a",
   "metadata": {},
   "source": [
    "# Hybrid Model for Crop Prediction\n",
    "This notebook demonstrates how to preprocess data, explore it, and build a hybrid model using stacking to predict crop types based on weather conditions."
   ]
  },
  {
   "cell_type": "code",
   "execution_count": null,
   "id": "719576b6",
   "metadata": {},
   "outputs": [],
   "source": [
    "import pandas as pd\n",
    "import numpy as np\n",
    "import seaborn as sns\n",
    "import matplotlib.pyplot as plt\n",
    "from sklearn.model_selection import train_test_split\n",
    "from sklearn.preprocessing import LabelEncoder, StandardScaler\n",
    "from sklearn.metrics import accuracy_score, classification_report, confusion_matrix\n",
    "from hybridmodels.classifier import HybridClassifier"
   ]
  },
  {
   "cell_type": "code",
   "execution_count": null,
   "id": "78e9cc1d",
   "metadata": {},
   "outputs": [],
   "source": [
    "dataset_path = \"path_to_your_csv_file.csv\"  # Replace with your file path\n",
    "df = pd.read_csv(dataset_path)\n",
    "\n",
    "# Inspect the dataset\n",
    "print(\"First 5 rows of the dataset:\")\n",
    "print(df.head())\n",
    "print(\"\\nDataset Information:\")\n",
    "df.info()\n",
    "print(\"\\nSummary statistics:\")\n",
    "print(df.describe())"
   ]
  },
  {
   "cell_type": "code",
   "execution_count": null,
   "id": "141e2eab",
   "metadata": {},
   "outputs": [],
   "source": [
    "# Check for missing values\n",
    "missing_values = df.isnull().sum()\n",
    "print(\"\\nMissing Values:\\n\", missing_values)\n",
    "\n",
    "# Visualize missing values\n",
    "plt.figure(figsize=(10, 6))\n",
    "sns.heatmap(df.isnull(), cbar=False, cmap=\"viridis\")\n",
    "plt.title(\"Missing Values Heatmap\")\n",
    "plt.show()"
   ]
  },
  {
   "cell_type": "code",
   "execution_count": null,
   "id": "ffacef9c",
   "metadata": {},
   "outputs": [],
   "source": [
    "# Data visualization\n",
    "plt.figure(figsize=(10, 6))\n",
    "sns.countplot(x='Crop Type', data=df)\n",
    "plt.title(\"Distribution of Crop Types\")\n",
    "plt.show()\n",
    "\n",
    "# Correlation heatmap\n",
    "plt.figure(figsize=(10, 8))\n",
    "corr_matrix = df.corr()\n",
    "sns.heatmap(corr_matrix, annot=True, cmap=\"coolwarm\")\n",
    "plt.title(\"Feature Correlation Heatmap\")\n",
    "plt.show()\n",
    "\n",
    "# Pairplot\n",
    "sns.pairplot(df, hue='Crop Type', diag_kind='kde')\n",
    "plt.show()"
   ]
  },
  {
   "cell_type": "code",
   "execution_count": null,
   "id": "29882aa8",
   "metadata": {},
   "outputs": [],
   "source": [
    "# Data preprocessing\n",
    "X = df[['Temperature (°C)', 'Humidity (%)', 'Rainfall (mm)', 'Wind Speed (m/s)']]\n",
    "y = df['Crop Type']\n",
    "\n",
    "# Encode target variable\n",
    "label_encoder = LabelEncoder()\n",
    "y_encoded = label_encoder.fit_transform(y)\n",
    "\n",
    "# Scale features\n",
    "scaler = StandardScaler()\n",
    "X_scaled = scaler.fit_transform(X)\n",
    "\n",
    "# Train-test split\n",
    "X_train, X_test, y_train, y_test = train_test_split(X_scaled, y_encoded, test_size=0.2, random_state=42)"
   ]
  },
  {
   "cell_type": "code",
   "execution_count": null,
   "id": "f062b68e",
   "metadata": {},
   "outputs": [],
   "source": [
    "# Define and train the hybrid model\n",
    "model = HybridClassifier(\n",
    "    models=[\"RandomForest\", \"LogisticRegression\", \"XGBClassifier\"],  # Use multiple models\n",
    "    meta_model=\"LogisticRegression\"  # Meta model to combine predictions\n",
    ")\n",
    "\n",
    "# Train the hybrid model\n",
    "model.fit(X_train, y_train)\n",
    "\n",
    "# Make predictions\n",
    "y_pred = model.predict(X_test)"
   ]
  },
  {
   "cell_type": "code",
   "execution_count": null,
   "id": "d5e4e8df",
   "metadata": {},
   "outputs": [],
   "source": [
    "# Evaluate the model\n",
    "accuracy = accuracy_score(y_test, y_pred)\n",
    "report = classification_report(y_test, y_pred, target_names=label_encoder.classes_)\n",
    "conf_matrix = confusion_matrix(y_test, y_pred)\n",
    "\n",
    "print(f\"Accuracy: {accuracy * 100:.2f}%\")\n",
    "print(\"Classification Report:\\n\", report)\n",
    "\n",
    "# Confusion matrix visualization\n",
    "plt.figure(figsize=(8, 6))\n",
    "sns.heatmap(conf_matrix, annot=True, fmt=\"d\", cmap=\"Blues\", \n",
    "            xticklabels=label_encoder.classes_, yticklabels=label_encoder.classes_)\n",
    "plt.xlabel(\"Predicted\")\n",
    "plt.ylabel(\"Actual\")\n",
    "plt.title(\"Confusion Matrix\")\n",
    "plt.show()"
   ]
  },
  {
   "cell_type": "code",
   "execution_count": null,
   "id": "bb8d22f6",
   "metadata": {},
   "outputs": [],
   "source": [
    "# Feature importance for RandomForest (if applicable)\n",
    "if \"RandomForest\" in model.models:\n",
    "    rf_model = model.models[\"RandomForest\"]\n",
    "    feature_importances = rf_model.feature_importances_\n",
    "    features = X.columns\n",
    "    importance_df = pd.DataFrame({\"Feature\": features, \"Importance\": feature_importances}).sort_values(by=\"Importance\", ascending=False)\n",
    "\n",
    "    # Plot feature importance\n",
    "    plt.figure(figsize=(10, 6))\n",
    "    sns.barplot(x=\"Importance\", y=\"Feature\", data=importance_df, palette=\"viridis\")\n",
    "    plt.title(\"Feature Importance\")\n",
    "    plt.show()"
   ]
  },
  {
   "cell_type": "code",
   "execution_count": null,
   "id": "8bf7f3b0",
   "metadata": {},
   "outputs": [],
   "source": [
    "# Save results to CSV\n",
    "results_df = pd.DataFrame({\"Actual\": label_encoder.inverse_transform(y_test), \n",
    "                            \"Predicted\": label_encoder.inverse_transform(y_pred)})\n",
    "results_df.to_csv(\"prediction_results.csv\", index=False)\n",
    "print(\"Prediction results saved to 'prediction_results.csv'.\")\n",
    "\n",
    "# Save preprocessing objects for deployment\n",
    "import joblib\n",
    "joblib.dump(scaler, \"scaler.pkl\")\n",
    "joblib.dump(label_encoder, \"label_encoder.pkl\")\n",
    "print(\"Scaler and Label Encoder saved for future use.\")"
   ]
  }
 ],
 "metadata": {},
 "nbformat": 4,
 "nbformat_minor": 5
}
